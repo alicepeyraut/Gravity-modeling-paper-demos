{
 "cells": [
  {
   "attachments": {},
   "cell_type": "markdown",
   "metadata": {},
   "source": [
    "# Figure 2"
   ]
  },
  {
   "attachments": {},
   "cell_type": "markdown",
   "metadata": {},
   "source": [
    "## Imports"
   ]
  },
  {
   "cell_type": "code",
   "execution_count": null,
   "metadata": {},
   "outputs": [],
   "source": [
    "import dolfin\n",
    "import matplotlib.pyplot as plt\n",
    "import numpy\n",
    "import os\n",
    "import pandas as pd\n",
    "import shutil\n",
    "\n",
    "import dolfin_mech as dmech\n",
    "import get_invariants"
   ]
  },
  {
   "attachments": {},
   "cell_type": "markdown",
   "metadata": {},
   "source": [
    "## Creating folder for temporary files"
   ]
  },
  {
   "cell_type": "code",
   "execution_count": null,
   "metadata": {},
   "outputs": [],
   "source": [
    "res_basename = \"Fig8\"\n",
    "shutil.rmtree(res_basename, ignore_errors=True)\n",
    "os.mkdir(res_basename)"
   ]
  },
  {
   "attachments": {},
   "cell_type": "markdown",
   "metadata": {},
   "source": [
    "## Parameters"
   ]
  },
  {
   "cell_type": "code",
   "execution_count": null,
   "metadata": {},
   "outputs": [],
   "source": [
    "alpha = 0.16\n",
    "gamma = 0.5\n",
    "c1 = 1.2\n",
    "c2 = 0. ## obsolete parameter\n",
    "rho_solid =  1.06e-6\n",
    "\n",
    "\n",
    "params = {\n",
    "        \"alpha\": alpha,\n",
    "        \"gamma\":gamma,\n",
    "        \"c1\":c1,\n",
    "        \"c2\":c2,\n",
    "        \"kappa\":1e2,\n",
    "        \"eta\":1e-5,\n",
    "        \"rho_solid\":rho_solid}\n",
    "\n",
    "mat_params = {\"scaling\":\"linear\", \"parameters\": params}"
   ]
  },
  {
   "attachments": {},
   "cell_type": "markdown",
   "metadata": {},
   "source": [
    "## Loading"
   ]
  },
  {
   "cell_type": "code",
   "execution_count": null,
   "metadata": {},
   "outputs": [],
   "source": [
    "pe, pi = -0.5, -3. ### pleural pressure values \n",
    "\n",
    "breathing_constants=[0, -0.005, 0.005, -0.0065, 0.0065] ### different types of breathing"
   ]
  },
  {
   "attachments": {},
   "cell_type": "markdown",
   "metadata": {},
   "source": [
    "## Mesh"
   ]
  },
  {
   "cell_type": "code",
   "execution_count": null,
   "metadata": {},
   "outputs": [],
   "source": [
    "cube_params = {\"path_and_mesh_name\" : str(current_directory)+\"/Meshes/generic_lung.xdmf\"}\n"
   ]
  },
  {
   "attachments": {},
   "cell_type": "markdown",
   "metadata": {},
   "source": [
    "## Computing end-exhalation and end-inhalation configurations to compute the invariants, for different types of breathing"
   ]
  },
  {
   "cell_type": "code",
   "execution_count": null,
   "metadata": {},
   "outputs": [],
   "source": [
    "invariants={}\n",
    "for h in breathing_constants:\n",
    "\n",
    "    load_params_inverse = {\n",
    "        \"type\":\"p_boundary_condition0\", \"f\":9.81e3, \"P0\" : float(pe), \"H\":h}\n",
    "    load_params_direct_exhalation = {\n",
    "        \"type\":\"p_boundary_condition\", \"f\":9.81e3, \"P0\" : float(pe), \"H\":h}\n",
    "    load_params_direct_inhalation = {\n",
    "        \"type\":\"p_boundary_condition\", \"f\":9.81e3, \"P0\" : float(pi), \"H\":h}\n",
    "\n",
    "\n",
    "    ##### computing the reference configuration, trough an inverse problem\n",
    "    Uref, phisref_computation, V_expi_ini, V_unloaded = dmech.run_RivlinCube_PoroHyperelasticity(\n",
    "            inverse=1,\n",
    "            mat_params=mat_params,\n",
    "            load_params=load_params_inverse,\n",
    "            get_results=1,\n",
    "            inertia=1,\n",
    "            step_params={\"dt_min\":1e-4, \"dt_ini\":1},\n",
    "            res_basename=res_basename+\"/reference\",\n",
    "            cube_params=cube_params,\n",
    "            verbose=1)\n",
    "\n",
    "\n",
    "    ##### assuming that porosity is uniform in the unloaded configuration, and taking the same starting values for the problem with and the problem without gravity \n",
    "\n",
    "    phisref_imposed=[numpy.random.uniform(low=0.4, high=0.6) for i in range(len(phisref_computation))]\n",
    "\n",
    "    U_exhal, phisexhal_g, V_unloaded, V_exhal = dmech.run_RivlinCube_PoroHyperelasticity(\n",
    "                inverse=0,\n",
    "                mat_params=mat_params,\n",
    "                load_params=load_params_direct_exhalation,\n",
    "                get_results=1,\n",
    "                inertia=1,\n",
    "                step_params={\"dt_min\":1e-4, \"dt_ini\":0.125},\n",
    "                res_basename=res_basename+\"/exhalation\",\n",
    "                cube_params=cube_params,\n",
    "                porosity_params={\"type\": \"function_xml_from_array\", \"val\":phisref_imposed},\n",
    "                move_params={\"move\":True, \"U\":Uref},\n",
    "                verbose=1)\n",
    "\n",
    "    print(\"exhal config computed\")\n",
    "\n",
    "    U_inhal, phisinhal, V_unloaded, Vinhal = dmech.run_RivlinCube_PoroHyperelasticity(\n",
    "            inverse=0,\n",
    "            mat_params=mat_params,\n",
    "            load_params=load_params_direct_inhalation,\n",
    "            get_results=1,\n",
    "            inertia=1,\n",
    "            step_params={\"dt_min\":1e-4, \"dt_ini\":0.125},\n",
    "            res_basename=res_basename+\"/inhalation\",\n",
    "            cube_params=cube_params,\n",
    "            porosity_params={\"type\": \"function_xml_from_array\", \"val\":phisref_imposed},\n",
    "            move_params={\"move\":True, \"U\":Uref},\n",
    "            verbose=1)\n",
    "\n",
    "    print(\"inhal config computed\")\n",
    "\n",
    "    mesh = dolfin.Mesh()\n",
    "    mesh_name = str(cube_params[\"path_and_mesh_name\"])\n",
    "    dolfin.XDMFFile(mesh_name).read(mesh)\n",
    "    dolfin.ALE.move(mesh, Uref)\n",
    "\n",
    "    invariants_mesh = get_invariants.get_invariants(U_exhal=U_exhal, U_inhal=U_inhal, mesh=mesh)\n",
    "    invariants[\"h=\"+str(h)]=invariants_mesh"
   ]
  },
  {
   "attachments": {},
   "cell_type": "markdown",
   "metadata": {},
   "source": [
    "## Post-processing"
   ]
  },
  {
   "attachments": {},
   "cell_type": "markdown",
   "metadata": {},
   "source": [
    "### Reading data from Hurtado et al. for comparison"
   ]
  },
  {
   "cell_type": "code",
   "execution_count": null,
   "metadata": {},
   "outputs": [],
   "source": [
    "J=pd.read_table(\"Hurtado_data/J.dat\", sep=\"\\s+\", usecols=['zone', 'mean', 'std+', 'std-']).to_dict('list')\n",
    "I1=pd.read_table(\"Hurtado_data/I1.dat\", sep=\"\\s+\", usecols=['zone', 'mean', 'std+', 'std-']).to_dict('list')\n",
    "I2=pd.read_table(\"Hurtado_data/I2.dat\", sep=\"\\s+\", usecols=['zone', 'mean', 'std+', 'std-']).to_dict('list')"
   ]
  },
  {
   "attachments": {},
   "cell_type": "markdown",
   "metadata": {},
   "source": [
    "## Generating plots"
   ]
  },
  {
   "attachments": {},
   "cell_type": "markdown",
   "metadata": {},
   "source": [
    "### J"
   ]
  },
  {
   "cell_type": "code",
   "execution_count": null,
   "metadata": {},
   "outputs": [],
   "source": [
    "figJ, axJ = plt.subplots()\n",
    "\n",
    "data = [[J[\"mean\"][i], J[\"std+\"][i], J[\"std-\"][i]] for i in range(len(J[\"zone\"]))]\n",
    "\n",
    "plt.plot(invariants[\"h=0\"][\"zone\"], invariants[\"h=0\"][\"J^\"], color='green', linestyle='-',  marker=\"s\", label='Model w gravity')\n",
    "plt.plot(invariants[\"h=0.005\"][\"zone\"], invariants[\"h=0.005\"][\"J^\"], color='red', linestyle='-', marker=\"^\", label='Model w gravity H1')\n",
    "plt.plot(invariants[\"h=-0.005\"][\"zone\"], invariants[\"h=-0.005\"][\"J^\"], color='blue', linestyle='-', marker=\"^\", label='Model w gravity -H1')\n",
    "plt.plot(invariants[\"h=0.0065\"][\"zone\"], invariants[\"h=0.0065\"][\"J^\"], color='purple', linestyle='--', marker=\".\", label='Model w gravity H2')\n",
    "plt.plot(invariants[\"h=-0.0065\"][\"zone\"], invariants[\"h=-0.0065\"][\"J^\"], color='orange', linestyle='--', marker=\".\", label='Model w gravity -H2')\n",
    "\n",
    "axJ.boxplot(data)\n",
    "\n",
    "plt.grid()\n",
    "\n",
    "plt.legend()\n",
    "plt.show()\n"
   ]
  },
  {
   "attachments": {},
   "cell_type": "markdown",
   "metadata": {},
   "source": [
    "### I1"
   ]
  },
  {
   "cell_type": "code",
   "execution_count": null,
   "metadata": {},
   "outputs": [],
   "source": [
    "figJ, axJ = plt.subplots()\n",
    "\n",
    "data = [[I1[\"mean\"][i], I1[\"std+\"][i], I1[\"std-\"][i]] for i in range(len(J[\"zone\"]))]\n",
    "\n",
    "plt.plot(invariants[\"h=0\"][\"zone\"], invariants[\"h=0\"][\"I1^\"], color='green', linestyle='-',  marker=\"s\", label='Model w gravity')\n",
    "plt.plot(invariants[\"h=0.005\"][\"zone\"], invariants[\"h=0.005\"][\"I1^\"], color='red', linestyle='-', marker=\"^\", label='Model w gravity H1')\n",
    "plt.plot(invariants[\"h=-0.005\"][\"zone\"], invariants[\"h=-0.005\"][\"I1^\"], color='blue', linestyle='-', marker=\"^\", label='Model w gravity -H1')\n",
    "plt.plot(invariants[\"h=0.0065\"][\"zone\"], invariants[\"h=0.0065\"][\"I1^\"], color='purple', linestyle='--', marker=\".\", label='Model w gravity H2')\n",
    "plt.plot(invariants[\"h=-0.0065\"][\"zone\"], invariants[\"h=-0.0065\"][\"I1^\"], color='orange', linestyle='--', marker=\".\", label='Model w gravity -H2')\n",
    "\n",
    "\n",
    "\n",
    "axJ.boxplot(data)\n",
    "\n",
    "plt.grid()\n",
    "\n",
    "plt.legend()\n",
    "plt.show()"
   ]
  },
  {
   "attachments": {},
   "cell_type": "markdown",
   "metadata": {},
   "source": [
    "### I2"
   ]
  },
  {
   "cell_type": "code",
   "execution_count": null,
   "metadata": {},
   "outputs": [],
   "source": [
    "figJ, axJ = plt.subplots()\n",
    "\n",
    "data = [[I2[\"mean\"][i], I2[\"std+\"][i], I2[\"std-\"][i]] for i in range(len(I2[\"zone\"]))]\n",
    "\n",
    "plt.plot(invariants[\"h=0\"][\"zone\"], invariants[\"h=0\"][\"I2^\"], color='green', linestyle='-',  marker=\"s\", label='Model w gravity')\n",
    "plt.plot(invariants[\"h=0.005\"][\"zone\"], invariants[\"h=0.005\"][\"I2^\"], color='red', linestyle='-', marker=\"^\", label='Model w gravity H1')\n",
    "plt.plot(invariants[\"h=-0.005\"][\"zone\"], invariants[\"h=-0.005\"][\"I2^\"], color='blue', linestyle='-', marker=\"^\", label='Model w gravity -H1')\n",
    "plt.plot(invariants[\"h=0.0065\"][\"zone\"], invariants[\"h=0.0065\"][\"I2^\"], color='purple', linestyle='--', marker=\".\", label='Model w gravity H2')\n",
    "plt.plot(invariants[\"h=-0.0065\"][\"zone\"], invariants[\"h=-0.0065\"][\"I2^\"], color='orange', linestyle='--', marker=\".\", label='Model w gravity -H2')\n",
    "\n",
    "axJ.boxplot(data)\n",
    "\n",
    "plt.grid()\n",
    "\n",
    "plt.legend()\n",
    "plt.show()"
   ]
  }
 ],
 "metadata": {
  "kernelspec": {
   "display_name": "all",
   "language": "python",
   "name": "python3"
  },
  "language_info": {
   "codemirror_mode": {
    "name": "ipython",
    "version": 3
   },
   "file_extension": ".py",
   "mimetype": "text/x-python",
   "name": "python",
   "nbconvert_exporter": "python",
   "pygments_lexer": "ipython3",
   "version": "3.9.18"
  },
  "orig_nbformat": 4
 },
 "nbformat": 4,
 "nbformat_minor": 2
}
