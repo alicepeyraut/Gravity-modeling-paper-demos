{
 "cells": [
  {
   "attachments": {},
   "cell_type": "markdown",
   "metadata": {},
   "source": [
    "# Figure 3"
   ]
  },
  {
   "attachments": {},
   "cell_type": "markdown",
   "metadata": {},
   "source": [
    "## Imports"
   ]
  },
  {
   "cell_type": "code",
   "execution_count": null,
   "metadata": {},
   "outputs": [],
   "source": [
    "import dolfin\n",
    "import matplotlib.pyplot as plt\n",
    "import numpy\n",
    "\n",
    "import dolfin_mech as dmech"
   ]
  },
  {
   "attachments": {},
   "cell_type": "markdown",
   "metadata": {},
   "source": [
    "## Parameters"
   ]
  },
  {
   "attachments": {},
   "cell_type": "markdown",
   "metadata": {},
   "source": [
    "### Mesh"
   ]
  },
  {
   "cell_type": "code",
   "execution_count": null,
   "metadata": {},
   "outputs": [],
   "source": [
    "cube_params = {\"path_and_mesh_name\":\"Meshes/generic_lung.xdmf\"}"
   ]
  },
  {
   "attachments": {},
   "cell_type": "markdown",
   "metadata": {},
   "source": [
    "### Material"
   ]
  },
  {
   "cell_type": "code",
   "execution_count": null,
   "metadata": {},
   "outputs": [],
   "source": [
    "alpha_lst = [0.016, 0.16, 1.6] # MG: Units!\n",
    "\n",
    "params = {\n",
    "    \"alpha\": 0.16, # MG: Units!\n",
    "    \"gamma\":0.5, # MG: Units!\n",
    "    \"c1\":0.6, # MG: Units!\n",
    "    \"c2\":0., # MG: Units!\n",
    "    \"kappa\":1e2, # MG: Units!\n",
    "    \"eta\":1e-5, # MG: Units!\n",
    "    \"rho_solid\":1.06e-6} # MG: Units!\n",
    "\n",
    "mat_params = {\"scaling\":\"linear\", \"parameters\":params}"
   ]
  },
  {
   "attachments": {},
   "cell_type": "markdown",
   "metadata": {},
   "source": [
    "### Loading"
   ]
  },
  {
   "cell_type": "code",
   "execution_count": null,
   "metadata": {},
   "outputs": [],
   "source": [
    "pi_lst = -numpy.linspace(0.5, 2., 21) # MG: Units!\n",
    "\n",
    "pe = -0.5 # MG: Units!\n",
    "\n",
    "g = 9.81e3 # MG: Units!"
   ]
  },
  {
   "attachments": {},
   "cell_type": "markdown",
   "metadata": {},
   "source": [
    "## Computing pressure-volume responses"
   ]
  },
  {
   "cell_type": "code",
   "execution_count": null,
   "metadata": {},
   "outputs": [],
   "source": [
    "results = {}\n",
    "\n",
    "gravity_lst = [0, 1]\n",
    "for gravity_ in gravity_lst:\n",
    "    for alpha_ in alpha_lst:\n",
    "\n",
    "        mat_params[\"parameters\"][\"alpha\"] = alpha_\n",
    "        load_params_inverse = {\n",
    "            \"type\":\"p_boundary_condition0\", \"f\":-gravity_*g, \"P0\":float(pe)}\n",
    "        load_params_direct_exhalation = {\n",
    "            \"type\":\"p_boundary_condition\", \"f\":-gravity_*g, \"P0\":float(pe)}\n",
    "        load_params_direct_inhalation= {\n",
    "            \"type\":\"p_boundary_condition\", \"f\":-gravity_*g, \"P0\":float(pi_)}\n",
    "\n",
    "        J_lst = []\n",
    "        for pi_ in pi_lst:\n",
    "\n",
    "            ### computing the unloaded configuration\n",
    "            U_exhal_to_unloaded, phis_unloaded, dV_exhal, dV_unloaded = dmech.run_RivlinCube_PoroHyperelasticity(\n",
    "                inverse=1,\n",
    "                cube_params=cube_params,\n",
    "                mat_params=mat_params,\n",
    "                load_params=load_params_inverse,\n",
    "                inertia=1,\n",
    "                step_params={\"dt_ini\":0.125, \"dt_min\":1e-4},\n",
    "                res_basename=\"Fig3-inverse\",\n",
    "                get_results=1,\n",
    "                verbose=1)\n",
    "            \n",
    "            V_exhal = dolfin.assemble(dolfin.Constant(1.) * dV_exhal)\n",
    "\n",
    "            ### computing the end-inhalation configuration\n",
    "            U_unloaded_to_inhal, phis_inhal, dV_unloaded, dV_inhal = dmech.run_RivlinCube_PoroHyperelasticity(\n",
    "                inverse=0,\n",
    "                cube_params=cube_params,\n",
    "                move_params={\"move\":True, \"U\":U_exhal_to_unloaded},\n",
    "                porosity_params={\"type\": \"function_xml_from_array\", \"val\":phis_unloaded},\n",
    "                mat_params=mat_params,\n",
    "                load_params=load_params_direct_inhalation,\n",
    "                inertia=1,\n",
    "                step_params={\"dt_min\":1e-4}, \n",
    "                res_basename=\"Fig3-direct\",\n",
    "                get_results=1,\n",
    "                verbose=1)\n",
    "            \n",
    "            V_inhal = dolfin.assemble(dolfin.Constant(1.) * dV_inhal)\n",
    "            J_def = V_inhal/V_exhal\n",
    "            J_lst.append(J_def)\n",
    "\n",
    "        results[\"J_alpha=\"+str(alpha_)+\"g=\"+str(gravity_)] = J_lst\n",
    "\n",
    "results[\"pi\"] = pi_lst"
   ]
  },
  {
   "attachments": {},
   "cell_type": "markdown",
   "metadata": {},
   "source": [
    "## Generating plots"
   ]
  },
  {
   "cell_type": "code",
   "execution_count": null,
   "metadata": {},
   "outputs": [],
   "source": [
    "fig, ax = plt.subplots()\n",
    "plt.rc(\"xtick\", labelsize=14)\n",
    "plt.rc(\"ytick\", labelsize=14)\n",
    "plt.rc(\"legend\", fontsize=12)\n",
    "plt.xlabel(\"End-inhalation pleural presure\", fontsize=10)\n",
    "plt.ylabel(\"Jacobian from end-exhalation to end-inhalation\", fontsize=10)\n",
    "color_lst = [\"blue\", \"green\", \"orange\"]\n",
    "for alpha_ in alpha_lst:\n",
    "    for gravity_ in gravity_lst:\n",
    "        if gravity_:\n",
    "            linestyle = \"-\"\n",
    "            g = \"w/ gravity\"\n",
    "        else:\n",
    "            linestyle = \"--\"\n",
    "            g = \"w/o gravity\"\n",
    "        plt.plot(results[\"pi\"], results[\"J_alpha=\"+str(alpha_)+\"g=\"+str(gravity_)], color=color_lst[0], linestyle=linestyle, label=r\"$\\alpha$\"+\"=\"+str(alpha_)+\" kPa, \"+str(g))\n",
    "    color_lst=color_lst[1:]\n",
    "plt.legend()\n",
    "plt.grid()\n",
    "plt.show()"
   ]
  }
 ],
 "metadata": {
  "kernelspec": {
   "display_name": "all",
   "language": "python",
   "name": "python3"
  },
  "language_info": {
   "codemirror_mode": {
    "name": "ipython",
    "version": 3
   },
   "file_extension": ".py",
   "mimetype": "text/x-python",
   "name": "python",
   "nbconvert_exporter": "python",
   "pygments_lexer": "ipython3",
   "version": "3.10.5"
  },
  "orig_nbformat": 4
 },
 "nbformat": 4,
 "nbformat_minor": 2
}
