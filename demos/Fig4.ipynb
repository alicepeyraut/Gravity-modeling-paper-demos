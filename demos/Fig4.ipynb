{
 "cells": [
  {
   "attachments": {},
   "cell_type": "markdown",
   "metadata": {},
   "source": [
    "# Figure 4"
   ]
  },
  {
   "attachments": {},
   "cell_type": "markdown",
   "metadata": {},
   "source": [
    "## Imports"
   ]
  },
  {
   "cell_type": "code",
   "execution_count": null,
   "metadata": {},
   "outputs": [],
   "source": [
    "import matplotlib.pyplot as plt\n",
    "import numpy\n",
    "import os\n",
    "import copy\n",
    "import shutil\n",
    "\n",
    "import dolfin_mech                    as dmech\n"
   ]
  },
  {
   "attachments": {},
   "cell_type": "markdown",
   "metadata": {},
   "source": [
    "## Creating folder for temporary files"
   ]
  },
  {
   "cell_type": "code",
   "execution_count": null,
   "metadata": {},
   "outputs": [],
   "source": [
    "res_basename = \"Fig4\"\n",
    "shutil.rmtree(res_basename, ignore_errors=True)\n",
    "os.mkdir(res_basename)"
   ]
  },
  {
   "attachments": {},
   "cell_type": "markdown",
   "metadata": {},
   "source": [
    "## Parameters"
   ]
  },
  {
   "cell_type": "code",
   "execution_count": null,
   "metadata": {},
   "outputs": [],
   "source": [
    "alpha = 0.16\n",
    "gamma = 0.5\n",
    "c1 = 1.2\n",
    "c2 = 0. ## obsolete parameter\n",
    "rho_solid =  1.06e-6\n",
    "\n",
    "\n",
    "params = {\n",
    "        \"alpha\": alpha,\n",
    "        \"gamma\":gamma,\n",
    "        \"c1\":c1,\n",
    "        \"c2\":c2,\n",
    "        \"kappa\":1e2,\n",
    "        \"eta\":1e-5,\n",
    "        \"rho_solid\":rho_solid}\n",
    "\n",
    "mat_params = {\"scaling\":\"linear\", \"parameters\": params}"
   ]
  },
  {
   "attachments": {},
   "cell_type": "markdown",
   "metadata": {},
   "source": [
    "## Loading"
   ]
  },
  {
   "cell_type": "code",
   "execution_count": null,
   "metadata": {},
   "outputs": [],
   "source": [
    "pe, pi = -0.5, -2. ### pleural pressure values \n",
    "\n",
    "gravity_lst = [0., 1.] ### 0 = without gravity, 1 = with gravity"
   ]
  },
  {
   "attachments": {},
   "cell_type": "markdown",
   "metadata": {},
   "source": [
    "## Mesh"
   ]
  },
  {
   "cell_type": "code",
   "execution_count": null,
   "metadata": {},
   "outputs": [],
   "source": [
    "cube_params = {\"path_and_mesh_name\" : str(current_directory)+\"/Meshes/generic_lung.xdmf\", \"refine\": True}\n",
    "\n",
    "### the mesh is refined only for plotting purposes\n"
   ]
  },
  {
   "attachments": {},
   "cell_type": "markdown",
   "metadata": {},
   "source": [
    "## Computing end-exhalation and end-inhalation porosities with and without gravity"
   ]
  },
  {
   "cell_type": "code",
   "execution_count": null,
   "metadata": {},
   "outputs": [],
   "source": [
    "for gravity_ in gravity_lst:\n",
    "    coef = -1.*gravity_ ##### -1 because gravity is applied from top to bottom\n",
    "    load_params_inverse = {\n",
    "        \"type\":\"p_boundary_condition0\", \"f\":coef*9.81e3, \"P0\" : float(pe)}\n",
    "    load_params_direct_exhalation = {\n",
    "        \"type\":\"p_boundary_condition\", \"f\":coef*9.81e3, \"P0\" : float(pe)}\n",
    "    load_params_direct_inhalation = {\n",
    "        \"type\":\"p_boundary_condition\", \"f\":coef*9.81e3, \"P0\" : float(pi)}\n",
    "    \n",
    "\n",
    "    ##### computing the reference configuration, trough an inverse problem\n",
    "    Uref, phisref_computation, Vexpiini, Vref = dmech.run_RivlinCube_PoroHyperelasticity(\n",
    "            inverse=1,\n",
    "            mat_params=mat_params,\n",
    "            load_params=load_params_inverse,\n",
    "            get_results=1,\n",
    "            inertia=1,\n",
    "            step_params={\"dt_min\":1e-4, \"dt_ini\":1},\n",
    "            res_basename=res_basename+\"/reference\",\n",
    "            cube_params=cube_params,\n",
    "            verbose=1)\n",
    "    \n",
    "\n",
    "    ##### assuming that porosity is uniform in the unloaded configuration, and taking the same starting values for the problem with and the problem without gravity \n",
    "\n",
    "\n",
    "    if gravity_ == 0.:\n",
    "        phisref_imposed=[numpy.random.uniform(low=0.4, high=0.6) for i in range(len(phisref_computation))]\n",
    "        Uexhal, phisexhal_g0, Vunloaded, Vexhal = dmech.run_RivlinCube_PoroHyperelasticity(\n",
    "                    porosity_params={\"type\": \"function_xml_from_array\", \"val\":phisref_imposed},\n",
    "                    mat_params=mat_params,\n",
    "                    load_params=load_params_direct_exhalation,\n",
    "                    res_basename=res_basename+\"/exhalation\",\n",
    "                    get_results=1,\n",
    "                    inertia=1,\n",
    "                    step_params={\"dt_min\":1e-4, \"dt_ini\":0.125},\n",
    "                    cube_params=cube_params,\n",
    "                    move_params={\"move\":True, \"U\":Uref},\n",
    "                    verbose=1)\n",
    "    else:\n",
    "        Uexhal, phisexhal_g, Vunloaded, Vexhal = dmech.run_RivlinCube_PoroHyperelasticity(\n",
    "                    porosity_params={\"type\": \"function_xml_from_array\", \"val\":phisref_imposed},\n",
    "                    mat_params=mat_params,\n",
    "                    load_params=load_params_direct_exhalation,\n",
    "                    res_basename=res_basename+\"/exhalation\",\n",
    "                    get_results=1,\n",
    "                    inertia=1,\n",
    "                    step_params={\"dt_min\":1e-4, \"dt_ini\":0.125},\n",
    "                    cube_params=cube_params,\n",
    "                    move_params={\"move\":True, \"U\":Uref},\n",
    "                    verbose=1)\n",
    "        \n",
    "\n",
    "    Uinhal, phisinhal, Vunloaded, Vinhal = dmech.run_RivlinCube_PoroHyperelasticity(\n",
    "            porosity_params={\"type\": \"function_xml_from_array\", \"val\":phisref_imposed},\n",
    "            mat_params=mat_params,\n",
    "            load_params=load_params_direct_inhalation,\n",
    "            res_basename=res_basename+\"/inhalation\",\n",
    "            move_params={\"move\":True, \"U\":Uref},\n",
    "            get_results=1,\n",
    "            inertia=1,\n",
    "            step_params={\"dt_min\":1e-4, \"dt_ini\":0.125},\n",
    "            cube_params=cube_params,\n",
    "            verbose=1)\n",
    "    \n",
    "    if gravity_ == 0.:\n",
    "        phisinhal_g0 = copy.deepcopy(phisinhal)"
   ]
  },
  {
   "attachments": {},
   "cell_type": "markdown",
   "metadata": {},
   "source": [
    "## Post-processing"
   ]
  },
  {
   "attachments": {},
   "cell_type": "markdown",
   "metadata": {},
   "source": [
    "### Computing frequency of appearance of the different porosities"
   ]
  },
  {
   "cell_type": "code",
   "execution_count": null,
   "metadata": {},
   "outputs": [],
   "source": [
    "porosity_exhal_g0=[]\n",
    "porosity_inhal_g0=[]\n",
    "porosity_exhal_g=[]\n",
    "porosity_inhal_g=[]\n",
    "porosity_ref=[]\n",
    "\n",
    "# phisexhal_g0=phisexhal_g0.tolist()\n",
    "# phisinhal_g0=phisinhal_g0.tolist()\n",
    "# phisexhal_g=phisexhal_g.tolist()\n",
    "# phisinhal=phisinhal.tolist()\n",
    "\n",
    "\n",
    "porosity_lst = numpy.linspace(0, 1, 300)\n",
    "\n",
    "\n",
    "#### value from calculations: phis, porosity = phif-phis\n",
    "porosity_plot = []\n",
    "\n",
    "\n",
    "#### plotting phif = 1 - phis\n",
    "\n",
    "\n",
    "for c in range(0, len(porosity_lst)-1):\n",
    "    min = porosity_lst[c]\n",
    "    max = porosity_lst[c+1]\n",
    "    porosity_exhal_g0.append(numpy.sum([min<=i<max for i in phisexhal_g0]))\n",
    "    porosity_inhal_g0.append(numpy.sum([min<=i<max for i in phisinhal_g0]))\n",
    "    porosity_exhal_g.append(numpy.sum([min<=i<max for i in phisexhal_g]))\n",
    "    porosity_inhal_g.append(numpy.sum([min<=i<max for i in phisinhal]))\n",
    "    porosity_ref.append(numpy.sum([min<=i<max for i in phisref_imposed]))\n",
    "    porosity_plot.append(1-(min+(max-min)/2))"
   ]
  },
  {
   "attachments": {},
   "cell_type": "markdown",
   "metadata": {},
   "source": [
    "## Generating plots"
   ]
  },
  {
   "attachments": {},
   "cell_type": "markdown",
   "metadata": {},
   "source": [
    "### End-exhalation"
   ]
  },
  {
   "cell_type": "code",
   "execution_count": null,
   "metadata": {},
   "outputs": [],
   "source": [
    "fig, ax = plt.subplots()\n",
    "\n",
    "width=max-min\n",
    "\n",
    "# bar_labels = ['red', 'blue', '_red', 'orange']\n",
    "# bar_colors = ['tab:red', 'tab:blue', 'tab:red', 'tab:orange']\n",
    "\n",
    "\n",
    "ax.bar(porosity_plot, porosity_exhal_g0, color='blue', label='w/o gravity', alpha=0.5, edgecolor='black', width=width) #, label=bar_labels, color=bar_colors)\n",
    "\n",
    "ax.bar(porosity_plot, porosity_exhal_g, color='orange', label='w gravity', alpha=0.5, edgecolor='black', width=width)\n",
    "\n",
    "ax.bar(porosity_plot, porosity_ref, color='green', label='reference', alpha=0.5, edgecolor='black', width=width)\n",
    "\n",
    "ax.set_ylabel('Frequency')\n",
    "ax.set_title('Porosity')\n",
    "\n",
    "ax.legend()\n",
    "\n",
    "plt.xlim([0.3, 0.9])\n",
    "\n",
    "plt.show()"
   ]
  },
  {
   "attachments": {},
   "cell_type": "markdown",
   "metadata": {},
   "source": [
    "### End-inhalation"
   ]
  },
  {
   "cell_type": "code",
   "execution_count": null,
   "metadata": {},
   "outputs": [],
   "source": [
    "fig, ax = plt.subplots()\n",
    "\n",
    "width=max-min\n",
    "\n",
    "ax.bar(porosity_plot, porosity_inhal_g0, color='blue', label='w/o gravity', alpha=0.5, edgecolor='black', width=width) #, label=bar_labels, color=bar_colors)\n",
    "\n",
    "ax.bar(porosity_plot, porosity_inhal_g, color='orange', label='w gravity', alpha=0.5, edgecolor='black', width=width)\n",
    "\n",
    "ax.bar(porosity_plot, porosity_ref, color='green', label='reference', alpha=0.5, edgecolor='black', width=width)\n",
    "\n",
    "ax.set_ylabel('Frequency')\n",
    "ax.set_title('Porosity')\n",
    "\n",
    "ax.legend()\n",
    "# x=numpy.linspace(0,1,2)\n",
    "\n",
    "# ax.set_xticks()\n",
    "\n",
    "plt.xlim([0.3, 0.9])\n",
    "\n",
    "plt.show()"
   ]
  }
 ],
 "metadata": {
  "kernelspec": {
   "display_name": "all",
   "language": "python",
   "name": "python3"
  },
  "language_info": {
   "codemirror_mode": {
    "name": "ipython",
    "version": 3
   },
   "file_extension": ".py",
   "mimetype": "text/x-python",
   "name": "python",
   "nbconvert_exporter": "python",
   "pygments_lexer": "ipython3",
   "version": "3.9.18"
  },
  "orig_nbformat": 4
 },
 "nbformat": 4,
 "nbformat_minor": 2
}
