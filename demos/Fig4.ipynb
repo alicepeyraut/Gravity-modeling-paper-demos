{
 "cells": [
  {
   "attachments": {},
   "cell_type": "markdown",
   "metadata": {},
   "source": [
    "# Figure 4"
   ]
  },
  {
   "attachments": {},
   "cell_type": "markdown",
   "metadata": {},
   "source": [
    "## Imports"
   ]
  },
  {
   "cell_type": "code",
   "execution_count": null,
   "metadata": {},
   "outputs": [],
   "source": [
    "import copy\n",
    "import matplotlib.pyplot as plt\n",
    "import numpy\n",
    "\n",
    "import dolfin_mech as dmech"
   ]
  },
  {
   "attachments": {},
   "cell_type": "markdown",
   "metadata": {},
   "source": [
    "## Parameters"
   ]
  },
  {
   "attachments": {},
   "cell_type": "markdown",
   "metadata": {},
   "source": [
    "### Mesh"
   ]
  },
  {
   "cell_type": "code",
   "execution_count": null,
   "metadata": {},
   "outputs": [],
   "source": [
    "cube_params = {\"path_and_mesh_name\":\"Meshes/generic_lung.xdmf\"}"
   ]
  },
  {
   "attachments": {},
   "cell_type": "markdown",
   "metadata": {},
   "source": [
    "### Material"
   ]
  },
  {
   "cell_type": "code",
   "execution_count": null,
   "metadata": {},
   "outputs": [],
   "source": [
    "params = {\n",
    "    \"alpha\": 0.16, # MG: Units!\n",
    "    \"gamma\":0.5, # MG: Units!\n",
    "    \"c1\":1.2, # MG: Units! # MG: C'était 0.6 pour Fig3?\n",
    "    \"c2\":0., # MG: Units!\n",
    "    \"kappa\":1e2, # MG: Units!\n",
    "    \"eta\":1e-5, # MG: Units!\n",
    "    \"rho_solid\":1.06e-6} # MG: Units!\n",
    "\n",
    "mat_params = {\"scaling\":\"linear\", \"parameters\":params}"
   ]
  },
  {
   "attachments": {},
   "cell_type": "markdown",
   "metadata": {},
   "source": [
    "### Loading"
   ]
  },
  {
   "cell_type": "code",
   "execution_count": null,
   "metadata": {},
   "outputs": [],
   "source": [
    "pe, pi = -0.5, -2. # MG: Units!\n",
    "\n",
    "g = 9.81e3 # MG: Units!"
   ]
  },
  {
   "attachments": {},
   "cell_type": "markdown",
   "metadata": {},
   "source": [
    "## Computing porosity distributions"
   ]
  },
  {
   "cell_type": "code",
   "execution_count": null,
   "metadata": {},
   "outputs": [],
   "source": [
    "gravity_lst = [0, 1]\n",
    "for gravity_ in gravity_lst:\n",
    "\n",
    "    load_params_inverse = {\n",
    "        \"type\":\"p_boundary_condition0\", \"f\":-gravity_*g, \"P0\":float(pe)}\n",
    "    load_params_direct_exhalation = {\n",
    "        \"type\":\"p_boundary_condition\", \"f\":-gravity_*g, \"P0\":float(pe)}\n",
    "    load_params_direct_inhalation = {\n",
    "        \"type\":\"p_boundary_condition\", \"f\":-gravity_*g, \"P0\":float(pi)}\n",
    "    \n",
    "    ### computing the unloaded configuration\n",
    "    Uref, phisref_computation, Vexpiini, Vref = dmech.run_RivlinCube_PoroHyperelasticity(\n",
    "        inverse=1,\n",
    "        cube_params=cube_params,\n",
    "        mat_params=mat_params,\n",
    "        load_params=load_params_inverse,\n",
    "        inertia=1,\n",
    "        step_params={\"dt_ini\":1., \"dt_min\":1e-4},\n",
    "        res_basename=\"Fig4-unloaded\",\n",
    "        get_results=1,\n",
    "        verbose=1)\n",
    "\n",
    "    ### computing the end-exhalation configuration\n",
    "    phisref_imposed = [numpy.random.uniform(low=0.4, high=0.6) for i in range(len(phisref_computation))]\n",
    "    if (gravity_ == 0): # MG: What is the difference between both?\n",
    "        Uexhal, phisexhal_g0, Vunloaded, Vexhal = dmech.run_RivlinCube_PoroHyperelasticity(\n",
    "            inverse=0,\n",
    "            cube_params=cube_params,\n",
    "            move_params={\"move\":True, \"U\":Uref},\n",
    "            porosity_params={\"type\": \"function_xml_from_array\", \"val\":phisref_imposed},\n",
    "            mat_params=mat_params,\n",
    "            load_params=load_params_direct_exhalation,\n",
    "            inertia=1,\n",
    "            step_params={\"dt_ini\":0.125, \"dt_min\":1e-4},\n",
    "            res_basename=\"Fig4-exhalation\",\n",
    "            get_results=1,\n",
    "            verbose=1)\n",
    "    else:\n",
    "        Uexhal, phisexhal_g, Vunloaded, Vexhal = dmech.run_RivlinCube_PoroHyperelasticity(\n",
    "            inverse=0,\n",
    "            cube_params=cube_params,\n",
    "            move_params={\"move\":True, \"U\":Uref},\n",
    "            porosity_params={\"type\": \"function_xml_from_array\", \"val\":phisref_imposed},\n",
    "            mat_params=mat_params,\n",
    "            load_params=load_params_direct_exhalation,\n",
    "            inertia=1,\n",
    "            step_params={\"dt_ini\":0.125, \"dt_min\":1e-4},\n",
    "            res_basename=\"Fig4-exhalation\",\n",
    "            get_results=1,\n",
    "            verbose=1)\n",
    "\n",
    "    ### computing the end-inhalation configuration\n",
    "    Uinhal, phisinhal, Vunloaded, Vinhal = dmech.run_RivlinCube_PoroHyperelasticity(\n",
    "        inverse=0,\n",
    "        cube_params=cube_params,\n",
    "        move_params={\"move\":True, \"U\":Uref},\n",
    "        porosity_params={\"type\": \"function_xml_from_array\", \"val\":phisref_imposed},\n",
    "        mat_params=mat_params,\n",
    "        load_params=load_params_direct_inhalation,\n",
    "        inertia=1,\n",
    "        step_params={\"dt_ini\":0.125, \"dt_min\":1e-4},\n",
    "        res_basename=\"Fig4-inhalation\",\n",
    "        get_results=1,\n",
    "        verbose=1)\n",
    "\n",
    "    if (gravity_ == 0):\n",
    "        phisinhal_g0 = copy.deepcopy(phisinhal)"
   ]
  },
  {
   "cell_type": "code",
   "execution_count": null,
   "metadata": {},
   "outputs": [],
   "source": [
    "porosity_lst = numpy.linspace(0, 1, 300)\n",
    "\n",
    "porosity_exhal_g0 = []\n",
    "porosity_inhal_g0 = []\n",
    "porosity_exhal_g  = []\n",
    "porosity_inhal_g  = []\n",
    "porosity_ref      = []\n",
    "porosity_plot     = []\n",
    "for c in range(0, len(porosity_lst)-1):\n",
    "    min = porosity_lst[c]\n",
    "    max = porosity_lst[c+1]\n",
    "    porosity_exhal_g0.append(numpy.sum([min<=i<max for i in phisexhal_g0]))\n",
    "    porosity_inhal_g0.append(numpy.sum([min<=i<max for i in phisinhal_g0]))\n",
    "    porosity_exhal_g.append(numpy.sum([min<=i<max for i in phisexhal_g]))\n",
    "    porosity_inhal_g.append(numpy.sum([min<=i<max for i in phisinhal]))\n",
    "    porosity_ref.append(numpy.sum([min<=i<max for i in phisref_imposed]))\n",
    "    porosity_plot.append(1-(min+(max-min)/2))"
   ]
  },
  {
   "attachments": {},
   "cell_type": "markdown",
   "metadata": {},
   "source": [
    "## Generating plots"
   ]
  },
  {
   "attachments": {},
   "cell_type": "markdown",
   "metadata": {},
   "source": [
    "### End-exhalation"
   ]
  },
  {
   "cell_type": "code",
   "execution_count": null,
   "metadata": {},
   "outputs": [],
   "source": [
    "fig, ax = plt.subplots()\n",
    "width=max-min\n",
    "ax.bar(porosity_plot, porosity_exhal_g0, color=\"blue\", label=\"w/o gravity\", alpha=0.5, edgecolor=\"black\", width=width)\n",
    "ax.bar(porosity_plot, porosity_exhal_g, color=\"orange\", label=\"w gravity\", alpha=0.5, edgecolor=\"black\", width=width)\n",
    "ax.bar(porosity_plot, porosity_ref, color=\"green\", label=\"reference\", alpha=0.5, edgecolor=\"black\", width=width)\n",
    "ax.set_ylabel(\"Frequency\")\n",
    "ax.set_title(\"Porosity\")\n",
    "ax.legend()\n",
    "plt.xlim([0.3, 0.9])\n",
    "plt.show()"
   ]
  },
  {
   "attachments": {},
   "cell_type": "markdown",
   "metadata": {},
   "source": [
    "### End-inhalation"
   ]
  },
  {
   "cell_type": "code",
   "execution_count": null,
   "metadata": {},
   "outputs": [],
   "source": [
    "fig, ax = plt.subplots()\n",
    "width=max-min\n",
    "ax.bar(porosity_plot, porosity_inhal_g0, color=\"blue\", label=\"w/o gravity\", alpha=0.5, edgecolor=\"black\", width=width)\n",
    "ax.bar(porosity_plot, porosity_inhal_g, color=\"orange\", label=\"w gravity\", alpha=0.5, edgecolor=\"black\", width=width)\n",
    "ax.bar(porosity_plot, porosity_ref, color=\"green\", label=\"reference\", alpha=0.5, edgecolor=\"black\", width=width)\n",
    "ax.set_ylabel(\"Frequency\")\n",
    "ax.set_title(\"Porosity\")\n",
    "ax.legend()\n",
    "plt.xlim([0.3, 0.9])\n",
    "plt.show()"
   ]
  }
 ],
 "metadata": {
  "kernelspec": {
   "display_name": "all",
   "language": "python",
   "name": "python3"
  },
  "language_info": {
   "codemirror_mode": {
    "name": "ipython",
    "version": 3
   },
   "file_extension": ".py",
   "mimetype": "text/x-python",
   "name": "python",
   "nbconvert_exporter": "python",
   "pygments_lexer": "ipython3",
   "version": "3.10.5"
  },
  "orig_nbformat": 4
 },
 "nbformat": 4,
 "nbformat_minor": 2
}
